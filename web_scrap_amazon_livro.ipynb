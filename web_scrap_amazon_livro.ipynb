{
  "nbformat": 4,
  "nbformat_minor": 0,
  "metadata": {
    "colab": {
      "provenance": [],
      "authorship_tag": "ABX9TyMQ+9aNFK1uOb0+Wq0U13yg"
    },
    "kernelspec": {
      "name": "python3",
      "display_name": "Python 3"
    },
    "language_info": {
      "name": "python"
    }
  },
  "cells": [
    {
      "cell_type": "code",
      "execution_count": 1,
      "metadata": {
        "id": "gI8yRcE8hBSN"
      },
      "outputs": [],
      "source": [
        "from bs4 import BeautifulSoup as bs\n",
        "import requests as rq\n",
        "import re"
      ]
    },
    {
      "cell_type": "code",
      "source": [
        "HEADERS = ({'User-Agent':'Mozilla/5.0 (Windows NT 10.0; Win64; x64) AppleWebKit/537.36 (KHTML, like Gecko) Chrome/106.0.0.0 Safari/537.36'})\n",
        "projeto_amazon = rq.get(\"https://www.amazon.com.br/dp/8595081530/ref=s9_acsd_ri_bw_c2_x_3_i?pf_rd_m=A3RN7G7QC5MWSZ&pf_rd_s=merchandised-search-3&pf_rd_r=8X800YXEVGN2171BYZAE&pf_rd_t=101&pf_rd_p=d05ade5b-71bc-4d90-aafd-be74f24dafc7&pf_rd_i=6740748011\",headers = HEADERS)\n",
        "amazon = bs(projeto_amazon.content)"
      ],
      "metadata": {
        "id": "SZ9wfKQdhJkQ"
      },
      "execution_count": 12,
      "outputs": []
    },
    {
      "cell_type": "code",
      "source": [
        "produto = amazon.find(id=\"productTitle\").getText().split()\n",
        "valor = amazon.find(class_=\"a-price-whole\").get_text().split()\n",
        "disponibilidade = amazon.find(class_=\"a-size-medium a-color-success\").getText().split()\n",
        "avaliacao = amazon.find(class_=\"a-icon a-icon-star a-star-5\").getText().split()\n",
        "\n",
        "\n",
        "print(\"Nome do produto:\", produto)\n",
        "print(\"valor do produto:\", valor)\n",
        "print(\"disponibilidade:\", disponibilidade)\n",
        "print(\"avaliacao\", avaliacao)"
      ],
      "metadata": {
        "colab": {
          "base_uri": "https://localhost:8080/"
        },
        "id": "8ezvqIs9hLaY",
        "outputId": "a4c4dc04-f941-46a0-9a65-9c6d573dcee7"
      },
      "execution_count": 11,
      "outputs": [
        {
          "output_type": "stream",
          "name": "stdout",
          "text": [
            "Nome do produto: ['O', 'homem', 'mais', 'rico', 'da', 'Babilônia']\n",
            "valor do produto: ['17,']\n",
            "disponibilidade: ['Em', 'estoque.']\n",
            "avaliacao ['4,9', 'de', '5', 'estrelas']\n"
          ]
        }
      ]
    },
    {
      "cell_type": "code",
      "source": [],
      "metadata": {
        "id": "9XVqJambjoTx"
      },
      "execution_count": null,
      "outputs": []
    }
  ]
}