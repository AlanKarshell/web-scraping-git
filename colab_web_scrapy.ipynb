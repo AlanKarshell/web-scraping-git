{
  "nbformat": 4,
  "nbformat_minor": 0,
  "metadata": {
    "colab": {
      "provenance": [],
      "authorship_tag": "ABX9TyOhFbsWwYXHakkzlhTGn+oX",
      "include_colab_link": true
    },
    "kernelspec": {
      "name": "python3",
      "display_name": "Python 3"
    },
    "language_info": {
      "name": "python"
    }
  },
  "cells": [
    {
      "cell_type": "markdown",
      "metadata": {
        "id": "view-in-github",
        "colab_type": "text"
      },
      "source": [
        "<a href=\"https://colab.research.google.com/github/AlanKarshell/web-scraping-git/blob/main/colab_web_scrapy.ipynb\" target=\"_parent\"><img src=\"https://colab.research.google.com/assets/colab-badge.svg\" alt=\"Open In Colab\"/></a>"
      ]
    },
    {
      "cell_type": "markdown",
      "source": [
        "# Importando Bibliotecas"
      ],
      "metadata": {
        "id": "AaHbm2P1mc5U"
      }
    },
    {
      "cell_type": "code",
      "execution_count": null,
      "metadata": {
        "id": "bTVLOTBvjGjz"
      },
      "outputs": [],
      "source": [
        "from bs4 import BeautifulSoup as bs\n",
        "import requests as rq\n",
        "import re"
      ]
    },
    {
      "cell_type": "markdown",
      "source": [
        "pegando HTML do site"
      ],
      "metadata": {
        "id": "cDL8AKDQmn1f"
      }
    },
    {
      "cell_type": "code",
      "source": [
        "html_completo = rq.get(\"https://webscraping.andreregino.com.br/\")\n",
        "html_formatado = bs (html_completo.content) \n"
      ],
      "metadata": {
        "id": "8n-EeaREmsB9"
      },
      "execution_count": 25,
      "outputs": []
    },
    {
      "cell_type": "code",
      "source": [
        "primeiro_h2 = html_formatado.find('h2').text\n",
        "print(primeiro_h2)"
      ],
      "metadata": {
        "colab": {
          "base_uri": "https://localhost:8080/"
        },
        "id": "-d7Lfk4Lm5zd",
        "outputId": "68945816-b8f8-4883-931d-d442c050f974"
      },
      "execution_count": null,
      "outputs": [
        {
          "output_type": "stream",
          "name": "stdout",
          "text": [
            "Para que aprender Git?\n"
          ]
        }
      ]
    },
    {
      "cell_type": "code",
      "source": [
        "todas_ocorrencias_h2 = html_formatado.find_all(['h2', 'h1'])\n",
        "for ocorrencia_h2 in todas_ocorrencias_h2:\n",
        "  print(ocorrencia_h2.text)"
      ],
      "metadata": {
        "colab": {
          "base_uri": "https://localhost:8080/"
        },
        "id": "9m3xPhwqoWgW",
        "outputId": "22f8f987-56fd-4961-b685-e4536d9042af"
      },
      "execution_count": null,
      "outputs": [
        {
          "output_type": "stream",
          "name": "stdout",
          "text": [
            "\n",
            "\t\t\t\t\t\t    E-book Git e GitHubSeu Código Versionado\n",
            "\t\t\t\t\t    \n",
            "Para que aprender Git?\n",
            "Para que aprender GitHub?\n",
            "Quais os Benefícios deste E-book?\n",
            "Quais os Tópicos?\n",
            "Quais os Tópicos?\n",
            "Para Quem é Esse Livro\n",
            "Quais os Pré Requisitos\n",
            "Reviews\n",
            "Sobre o Autor\n",
            "Investimento\n",
            "4x de R$9,90\n"
          ]
        }
      ]
    },
    {
      "cell_type": "markdown",
      "source": [
        "# Pegando Conteúdo usando Classes e IDs"
      ],
      "metadata": {
        "id": "qyfDf-_jrBJ7"
      }
    },
    {
      "cell_type": "code",
      "source": [
        "preco = html_formatado.find_all(class_=\"card-title pricing-card-title\")\n",
        "print(preco)\n",
        "pre_requisito = html_formatado.find(id=\"pre-requisite-section\")\n",
        "print(pre_requisito)"
      ],
      "metadata": {
        "colab": {
          "base_uri": "https://localhost:8080/"
        },
        "id": "N_ifwPyho9pF",
        "outputId": "b53a25d9-e4b9-46f1-e872-3df0dc83ec66"
      },
      "execution_count": null,
      "outputs": [
        {
          "output_type": "stream",
          "name": "stdout",
          "text": [
            "[<h1 class=\"card-title pricing-card-title\"><small class=\"text-muted\">4x de </small><span style=\"color: green\">R$9,90</span></h1>]\n",
            "<section class=\"pre-requisite-section\" id=\"pre-requisite-section\">\n",
            "<div class=\"container\">\n",
            "<div class=\"lead-form-wrapper single-col-max mx-auto theme-bg-light rounded p-5\">\n",
            "<h2 class=\"form-heading text-center\">Quais os Pré Requisitos</h2>\n",
            "<div class=\"form-intro text-center mb-3\">Nenhum, somente sua vontade de aprender.</div>\n",
            "</div><!--//lead-form-wrapper-->\n",
            "</div><!--//container-->\n",
            "</section>\n"
          ]
        }
      ]
    },
    {
      "cell_type": "markdown",
      "source": [
        "## Pegando conteudo com filtro de texto"
      ],
      "metadata": {
        "id": "YOIe3Z1YuFQQ"
      }
    },
    {
      "cell_type": "code",
      "source": [
        "todas_ocorrencias_h2 = html_formatado.find_all(['h2', 'h1'], text=re.compile('Para que aprender'))\n",
        "for ocorrencia_h2 in todas_ocorrencias_h2:\n",
        "  print(ocorrencia_h2.text)"
      ],
      "metadata": {
        "colab": {
          "base_uri": "https://localhost:8080/"
        },
        "id": "KZ6bZiiBsCR3",
        "outputId": "bd7890df-6a46-4d7c-a693-fe811a1dd732"
      },
      "execution_count": null,
      "outputs": [
        {
          "output_type": "stream",
          "name": "stdout",
          "text": [
            "Para que aprender Git?\n",
            "Para que aprender GitHub?\n"
          ]
        }
      ]
    },
    {
      "cell_type": "code",
      "source": [
        "botao = html_formatado.find(class_='price').a\n",
        "print(botao['href'])"
      ],
      "metadata": {
        "colab": {
          "base_uri": "https://localhost:8080/"
        },
        "id": "seuBQRsjuV4P",
        "outputId": "c2b96d47-0799-48c1-9246-d70db84ad0df"
      },
      "execution_count": null,
      "outputs": [
        {
          "output_type": "stream",
          "name": "stdout",
          "text": [
            "https://payment.hotmart.com/R54638781B?checkoutMode=10\n"
          ]
        }
      ]
    },
    {
      "cell_type": "code",
      "source": [
        "imagem = html_formatado.find('img')\n",
        "print(imagem['src'])"
      ],
      "metadata": {
        "colab": {
          "base_uri": "https://localhost:8080/"
        },
        "id": "zQUZ2Lm0vhsw",
        "outputId": "df591f62-a0b5-4ba2-fe75-d1c40bb87021"
      },
      "execution_count": null,
      "outputs": [
        {
          "output_type": "stream",
          "name": "stdout",
          "text": [
            "assets/images/capa-ebook-git-github.png\n"
          ]
        }
      ]
    },
    {
      "cell_type": "code",
      "source": [
        "elemento_da_lista = html_formatado.find(\"section\", class_=\"content-section\").li\n",
        "print(elemento_da_lista)"
      ],
      "metadata": {
        "id": "xWUAD_i1wiKQ",
        "colab": {
          "base_uri": "https://localhost:8080/"
        },
        "outputId": "4f4d57d3-9f8f-46f5-f76e-3564da4c8697"
      },
      "execution_count": null,
      "outputs": [
        {
          "output_type": "stream",
          "name": "stdout",
          "text": [
            "<li><i class=\"fas fa-check-circle mr-2\"></i>Instalação do Git e Criação de Conta no GitHub</li>\n"
          ]
        }
      ]
    },
    {
      "cell_type": "code",
      "source": [
        "quarto_elemento_lista = html_formatado.select(\".content-section ul li:nth-of-type(4)\")\n",
        "print(quarto_elemento_lista)"
      ],
      "metadata": {
        "colab": {
          "base_uri": "https://localhost:8080/"
        },
        "id": "LOhFLs3oTkrE",
        "outputId": "5bd40ab2-11db-4791-fda8-915746afbeb4"
      },
      "execution_count": null,
      "outputs": [
        {
          "output_type": "stream",
          "name": "stdout",
          "text": [
            "[<li><i class=\"fas fa-check-circle mr-2\"></i>Lidar com Conflitos e Clonar Projetos Públicos</li>]\n"
          ]
        }
      ]
    }
  ]
}